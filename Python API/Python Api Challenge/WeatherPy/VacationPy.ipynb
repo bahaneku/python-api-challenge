{
 "cells": [
  {
   "cell_type": "markdown",
   "metadata": {},
   "source": [
    "# VacationPy\n",
    "----\n",
    "\n",
    "#### Note\n",
    "* Instructions have been included for each segment. You do not have to follow them exactly, but they are included to help you think through the steps."
   ]
  },
  {
   "cell_type": "code",
   "execution_count": 28,
   "metadata": {},
   "outputs": [],
   "source": [
    "# Dependencies and Setup\n",
    "import matplotlib.pyplot as plt\n",
    "import pandas as pd\n",
    "import numpy as np\n",
    "import requests\n",
    "import gmaps\n",
    "import os\n",
    "\n",
    "# Import API key\n",
    "from api_keys import g_key"
   ]
  },
  {
   "cell_type": "markdown",
   "metadata": {},
   "source": [
    "### Store Part I results into DataFrame\n",
    "* Load the csv exported in Part I to a DataFrame"
   ]
  },
  {
   "cell_type": "code",
   "execution_count": 29,
   "metadata": {},
   "outputs": [
    {
     "output_type": "execute_result",
     "data": {
      "text/plain": "   Unnamed: 0       City  Latitude  Longitude  Temperature (F)  Humidity  \\\n0           0  ostrovnoy     68.05      39.51            47.64        94   \n1           1  mahebourg    -20.41      57.70            69.80        77   \n2           2    qaanaaq     77.48     -69.36            21.06        78   \n3           3     zhuhai     22.28     113.57            84.81        83   \n4           4  cape town    -33.93      18.42            53.78        87   \n\n   Clouds  Wind Speed (mph)  \n0     100              4.74  \n1      75             10.29  \n2      36              9.86  \n3      40              6.93  \n4      75              5.82  ",
      "text/html": "<div>\n<style scoped>\n    .dataframe tbody tr th:only-of-type {\n        vertical-align: middle;\n    }\n\n    .dataframe tbody tr th {\n        vertical-align: top;\n    }\n\n    .dataframe thead th {\n        text-align: right;\n    }\n</style>\n<table border=\"1\" class=\"dataframe\">\n  <thead>\n    <tr style=\"text-align: right;\">\n      <th></th>\n      <th>Unnamed: 0</th>\n      <th>City</th>\n      <th>Latitude</th>\n      <th>Longitude</th>\n      <th>Temperature (F)</th>\n      <th>Humidity</th>\n      <th>Clouds</th>\n      <th>Wind Speed (mph)</th>\n    </tr>\n  </thead>\n  <tbody>\n    <tr>\n      <th>0</th>\n      <td>0</td>\n      <td>ostrovnoy</td>\n      <td>68.05</td>\n      <td>39.51</td>\n      <td>47.64</td>\n      <td>94</td>\n      <td>100</td>\n      <td>4.74</td>\n    </tr>\n    <tr>\n      <th>1</th>\n      <td>1</td>\n      <td>mahebourg</td>\n      <td>-20.41</td>\n      <td>57.70</td>\n      <td>69.80</td>\n      <td>77</td>\n      <td>75</td>\n      <td>10.29</td>\n    </tr>\n    <tr>\n      <th>2</th>\n      <td>2</td>\n      <td>qaanaaq</td>\n      <td>77.48</td>\n      <td>-69.36</td>\n      <td>21.06</td>\n      <td>78</td>\n      <td>36</td>\n      <td>9.86</td>\n    </tr>\n    <tr>\n      <th>3</th>\n      <td>3</td>\n      <td>zhuhai</td>\n      <td>22.28</td>\n      <td>113.57</td>\n      <td>84.81</td>\n      <td>83</td>\n      <td>40</td>\n      <td>6.93</td>\n    </tr>\n    <tr>\n      <th>4</th>\n      <td>4</td>\n      <td>cape town</td>\n      <td>-33.93</td>\n      <td>18.42</td>\n      <td>53.78</td>\n      <td>87</td>\n      <td>75</td>\n      <td>5.82</td>\n    </tr>\n  </tbody>\n</table>\n</div>"
     },
     "metadata": {},
     "execution_count": 29
    }
   ],
   "source": [
    "cw_file= \"C:/Users/bbahaneb/Documents/DU Data Bootcamp/Data Bootcamp Homework/data-homework/Python API/Python Api Challenge/WeatherPycityweather.csv\"\n",
    "cw= pd.read_csv(cw_file)\n",
    "cw_df=pd.DataFrame(cw)\n",
    "cw_df.head()"
   ]
  },
  {
   "cell_type": "markdown",
   "metadata": {},
   "source": [
    "### Humidity Heatmap\n",
    "* Configure gmaps.\n",
    "* Use the Lat and Lng as locations and Humidity as the weight.\n",
    "* Add Heatmap layer to map."
   ]
  },
  {
   "cell_type": "code",
   "execution_count": 30,
   "metadata": {},
   "outputs": [],
   "source": [
    "gmaps.configure(api_key=g_key)"
   ]
  },
  {
   "cell_type": "code",
   "execution_count": 31,
   "metadata": {},
   "outputs": [
    {
     "output_type": "display_data",
     "data": {
      "text/plain": "Figure(layout=FigureLayout(height='420px'))",
      "application/vnd.jupyter.widget-view+json": {
       "version_major": 2,
       "version_minor": 0,
       "model_id": "2e925d67b036407992973ca3d88ad8e4"
      }
     },
     "metadata": {}
    }
   ],
   "source": [
    "fig=gmaps.figure()\n",
    "\n",
    "heatmap_layer=gmaps.heatmap_layer(\n",
    "    cw_df[[\"Latitude\", \"Longitude\"]], weights=cw_df[\"Humidity\"], max_intensity=100, point_radius=5, dissipating=False)\n",
    "\n",
    "fig.add_layer(heatmap_layer)\n",
    "fig"
   ]
  },
  {
   "cell_type": "markdown",
   "metadata": {},
   "source": [
    "### Create new DataFrame fitting weather criteria\n",
    "* Narrow down the cities to fit weather conditions.\n",
    "* Drop any rows will null values."
   ]
  },
  {
   "cell_type": "code",
   "execution_count": 43,
   "metadata": {},
   "outputs": [
    {
     "output_type": "execute_result",
     "data": {
      "text/plain": "     Unnamed: 0        City  Latitude  Longitude  Temperature (F)  Humidity  \\\n6             6    flinders    -34.58     150.86            68.72        55   \n141         141    sanchazi     42.08     126.60            65.32        59   \n315         315  miraflores     19.22     -98.81            69.10        43   \n365         365   ulladulla    -35.35     150.47            65.03        55   \n388         388   geraldton    -28.77     114.60            69.80        28   \n396         396  nelson bay    -32.72     152.15            71.11        49   \n\n     Clouds  Wind Speed (mph)  \n6        40              8.05  \n141      42              0.69  \n315      40             14.99  \n365      40              8.05  \n388      25             21.92  \n396      20             13.87  ",
      "text/html": "<div>\n<style scoped>\n    .dataframe tbody tr th:only-of-type {\n        vertical-align: middle;\n    }\n\n    .dataframe tbody tr th {\n        vertical-align: top;\n    }\n\n    .dataframe thead th {\n        text-align: right;\n    }\n</style>\n<table border=\"1\" class=\"dataframe\">\n  <thead>\n    <tr style=\"text-align: right;\">\n      <th></th>\n      <th>Unnamed: 0</th>\n      <th>City</th>\n      <th>Latitude</th>\n      <th>Longitude</th>\n      <th>Temperature (F)</th>\n      <th>Humidity</th>\n      <th>Clouds</th>\n      <th>Wind Speed (mph)</th>\n    </tr>\n  </thead>\n  <tbody>\n    <tr>\n      <th>6</th>\n      <td>6</td>\n      <td>flinders</td>\n      <td>-34.58</td>\n      <td>150.86</td>\n      <td>68.72</td>\n      <td>55</td>\n      <td>40</td>\n      <td>8.05</td>\n    </tr>\n    <tr>\n      <th>141</th>\n      <td>141</td>\n      <td>sanchazi</td>\n      <td>42.08</td>\n      <td>126.60</td>\n      <td>65.32</td>\n      <td>59</td>\n      <td>42</td>\n      <td>0.69</td>\n    </tr>\n    <tr>\n      <th>315</th>\n      <td>315</td>\n      <td>miraflores</td>\n      <td>19.22</td>\n      <td>-98.81</td>\n      <td>69.10</td>\n      <td>43</td>\n      <td>40</td>\n      <td>14.99</td>\n    </tr>\n    <tr>\n      <th>365</th>\n      <td>365</td>\n      <td>ulladulla</td>\n      <td>-35.35</td>\n      <td>150.47</td>\n      <td>65.03</td>\n      <td>55</td>\n      <td>40</td>\n      <td>8.05</td>\n    </tr>\n    <tr>\n      <th>388</th>\n      <td>388</td>\n      <td>geraldton</td>\n      <td>-28.77</td>\n      <td>114.60</td>\n      <td>69.80</td>\n      <td>28</td>\n      <td>25</td>\n      <td>21.92</td>\n    </tr>\n    <tr>\n      <th>396</th>\n      <td>396</td>\n      <td>nelson bay</td>\n      <td>-32.72</td>\n      <td>152.15</td>\n      <td>71.11</td>\n      <td>49</td>\n      <td>20</td>\n      <td>13.87</td>\n    </tr>\n  </tbody>\n</table>\n</div>"
     },
     "metadata": {},
     "execution_count": 43
    }
   ],
   "source": [
    "best_temp= cw_df.loc[(cw_df[\"Temperature (F)\"]>=30) & (cw_df[\"Temperature (F)\"]<=72)]\n",
    "best_temp\n",
    "\n",
    "best_humid= best_temp.loc[best_temp[\"Humidity\"]<60]\n",
    "best_humid\n",
    "\n",
    "best_weather= best_humid.loc[(best_humid[\"Clouds\"]<50) & (best_humid[\"Clouds\"]>10)]\n",
    "best_weather"
   ]
  },
  {
   "cell_type": "markdown",
   "metadata": {},
   "source": [
    "### Hotel Map\n",
    "* Store into variable named `hotel_df`.\n",
    "* Add a \"Hotel Name\" column to the DataFrame.\n",
    "* Set parameters to search for hotels with 5000 meters.\n",
    "* Hit the Google Places API for each city's coordinates.\n",
    "* Store the first Hotel result into the DataFrame.\n",
    "* Plot markers on top of the heatmap."
   ]
  },
  {
   "cell_type": "code",
   "execution_count": 44,
   "metadata": {},
   "outputs": [
    {
     "output_type": "execute_result",
     "data": {
      "text/plain": "  Hotel Name  Latitude  Longitude        City    Country\n0        NaN    -34.58     150.86    flinders  Australia\n1        NaN     42.08     126.60    sanchazi      China\n2        NaN     19.22     -98.81  miraflores     Mexico\n3        NaN    -35.35     150.47   ulladulla  Australia\n4        NaN    -28.77     114.60   geraldton  Australia\n5        NaN    -32.72     152.15  nelson bay  Australia",
      "text/html": "<div>\n<style scoped>\n    .dataframe tbody tr th:only-of-type {\n        vertical-align: middle;\n    }\n\n    .dataframe tbody tr th {\n        vertical-align: top;\n    }\n\n    .dataframe thead th {\n        text-align: right;\n    }\n</style>\n<table border=\"1\" class=\"dataframe\">\n  <thead>\n    <tr style=\"text-align: right;\">\n      <th></th>\n      <th>Hotel Name</th>\n      <th>Latitude</th>\n      <th>Longitude</th>\n      <th>City</th>\n      <th>Country</th>\n    </tr>\n  </thead>\n  <tbody>\n    <tr>\n      <th>0</th>\n      <td>NaN</td>\n      <td>-34.58</td>\n      <td>150.86</td>\n      <td>flinders</td>\n      <td>Australia</td>\n    </tr>\n    <tr>\n      <th>1</th>\n      <td>NaN</td>\n      <td>42.08</td>\n      <td>126.60</td>\n      <td>sanchazi</td>\n      <td>China</td>\n    </tr>\n    <tr>\n      <th>2</th>\n      <td>NaN</td>\n      <td>19.22</td>\n      <td>-98.81</td>\n      <td>miraflores</td>\n      <td>Mexico</td>\n    </tr>\n    <tr>\n      <th>3</th>\n      <td>NaN</td>\n      <td>-35.35</td>\n      <td>150.47</td>\n      <td>ulladulla</td>\n      <td>Australia</td>\n    </tr>\n    <tr>\n      <th>4</th>\n      <td>NaN</td>\n      <td>-28.77</td>\n      <td>114.60</td>\n      <td>geraldton</td>\n      <td>Australia</td>\n    </tr>\n    <tr>\n      <th>5</th>\n      <td>NaN</td>\n      <td>-32.72</td>\n      <td>152.15</td>\n      <td>nelson bay</td>\n      <td>Australia</td>\n    </tr>\n  </tbody>\n</table>\n</div>"
     },
     "metadata": {},
     "execution_count": 44
    }
   ],
   "source": [
    "hotel_df=pd.DataFrame()\n",
    "hotel_df[\"Hotel Name\"]=\"\"\n",
    "    \n",
    "hotel_df[\"Latitude\"]=best_weather[\"Latitude\"]\n",
    "hotel_df[\"Longitude\"]=best_weather[\"Longitude\"]\n",
    "hotel_df[\"City\"]=best_weather[\"City\"]\n",
    "hotel_df.reset_index(drop=True, inplace=True)\n",
    "country=[\"Australia\", \"China\", \"Mexico\", \"Australia\", \"Australia\", \"Australia\"]\n",
    "hotel_df[\"Country\"]=country\n",
    "\n",
    "hotel_df"
   ]
  },
  {
   "cell_type": "code",
   "execution_count": 47,
   "metadata": {},
   "outputs": [
    {
     "output_type": "execute_result",
     "data": {
      "text/plain": "                                Hotel Name  Latitude  Longitude        City  \\\n0                Dream Catcher Beach House    -34.58     150.86    flinders   \n1                            Sengong Hotel     42.08     126.60    sanchazi   \n2                            Hotel Mansión     19.22     -98.81  miraflores   \n3   Mollymook Surfbeach Motel & Apartments    -35.35     150.47   ulladulla   \n4               The Gerald Apartment Hotel    -28.77     114.60   geraldton   \n5  Amarna Luxury Beach Resort - Guest Only    -32.72     152.15  nelson bay   \n\n     Country  \n0  Australia  \n1      China  \n2     Mexico  \n3  Australia  \n4  Australia  \n5  Australia  ",
      "text/html": "<div>\n<style scoped>\n    .dataframe tbody tr th:only-of-type {\n        vertical-align: middle;\n    }\n\n    .dataframe tbody tr th {\n        vertical-align: top;\n    }\n\n    .dataframe thead th {\n        text-align: right;\n    }\n</style>\n<table border=\"1\" class=\"dataframe\">\n  <thead>\n    <tr style=\"text-align: right;\">\n      <th></th>\n      <th>Hotel Name</th>\n      <th>Latitude</th>\n      <th>Longitude</th>\n      <th>City</th>\n      <th>Country</th>\n    </tr>\n  </thead>\n  <tbody>\n    <tr>\n      <th>0</th>\n      <td>Dream Catcher Beach House</td>\n      <td>-34.58</td>\n      <td>150.86</td>\n      <td>flinders</td>\n      <td>Australia</td>\n    </tr>\n    <tr>\n      <th>1</th>\n      <td>Sengong Hotel</td>\n      <td>42.08</td>\n      <td>126.60</td>\n      <td>sanchazi</td>\n      <td>China</td>\n    </tr>\n    <tr>\n      <th>2</th>\n      <td>Hotel Mansión</td>\n      <td>19.22</td>\n      <td>-98.81</td>\n      <td>miraflores</td>\n      <td>Mexico</td>\n    </tr>\n    <tr>\n      <th>3</th>\n      <td>Mollymook Surfbeach Motel &amp; Apartments</td>\n      <td>-35.35</td>\n      <td>150.47</td>\n      <td>ulladulla</td>\n      <td>Australia</td>\n    </tr>\n    <tr>\n      <th>4</th>\n      <td>The Gerald Apartment Hotel</td>\n      <td>-28.77</td>\n      <td>114.60</td>\n      <td>geraldton</td>\n      <td>Australia</td>\n    </tr>\n    <tr>\n      <th>5</th>\n      <td>Amarna Luxury Beach Resort - Guest Only</td>\n      <td>-32.72</td>\n      <td>152.15</td>\n      <td>nelson bay</td>\n      <td>Australia</td>\n    </tr>\n  </tbody>\n</table>\n</div>"
     },
     "metadata": {},
     "execution_count": 47
    }
   ],
   "source": [
    "lats=[]\n",
    "lngs=[]\n",
    "\n",
    "for each in range(len(hotel_df[\"City\"])):\n",
    "    lats.append(hotel_df[\"Latitude\"][each])\n",
    "    lngs.append(hotel_df[\"Longitude\"][each])\n",
    "\n",
    "\n",
    "hotels=[]\n",
    "\n",
    "for each in range(len(hotel_df[\"City\"])):\n",
    "    url= f\"https://maps.googleapis.com/maps/api/place/nearbysearch/json?type=establishment&keyword=hotel&fields=name&key={g_key}&radius=5000&location=\"\n",
    "    query_url=url+str(lats[each])+\",\"+str(lngs[each])\n",
    "    response=requests.get(query_url).json()\n",
    "    hotels.append(response[\"results\"][0][\"name\"])\n",
    "    \n",
    "\n",
    "hotel_df[\"Hotel Name\"]=hotels\n",
    "\n",
    "hotel_df.to_csv(r\"C:/Users/bbahaneb/Documents/DU Data Bootcamp/Data Bootcamp Homework/data-homework/Python API/Python Api Challenge/WeatherPy/hotels.csv\")\n",
    "hotel_df"
   ]
  },
  {
   "cell_type": "code",
   "execution_count": 49,
   "metadata": {},
   "outputs": [],
   "source": [
    "# NOTE: Do not change any of the code in this cell\n",
    "\n",
    "# Using the template add the hotel marks to the heatmap\n",
    "info_box_template = \"\"\"\n",
    "<dl>\n",
    "<dt>Name</dt><dd>{Hotel Name}</dd>\n",
    "<dt>City</dt><dd>{City}</dd>\n",
    "<dt>Country</dt><dd>{Country}</dd>\n",
    "</dl>\n",
    "\"\"\"\n",
    "# Store the DataFrame Row\n",
    "# NOTE: be sure to update with your DataFrame name\n",
    "hotel_info = [info_box_template.format(**row) for index, row in hotel_df.iterrows()]\n",
    "locations = hotel_df[[\"Latitude\", \"Longitude\"]]"
   ]
  },
  {
   "cell_type": "code",
   "execution_count": 50,
   "metadata": {},
   "outputs": [
    {
     "output_type": "display_data",
     "data": {
      "text/plain": "Figure(layout=FigureLayout(height='420px'))",
      "application/vnd.jupyter.widget-view+json": {
       "version_major": 2,
       "version_minor": 0,
       "model_id": "2e925d67b036407992973ca3d88ad8e4"
      }
     },
     "metadata": {}
    }
   ],
   "source": [
    "# Add marker layer ontop of heat map\n",
    "markers=gmaps.marker_layer(locations, info_box_content=hotel_info)\n",
    "fig.add_layer(markers)\n",
    "fig\n",
    "# Display figure"
   ]
  },
  {
   "cell_type": "code",
   "execution_count": null,
   "metadata": {},
   "outputs": [],
   "source": []
  }
 ],
 "metadata": {
  "kernelspec": {
   "display_name": "Python 3",
   "language": "python",
   "name": "python3"
  },
  "language_info": {
   "codemirror_mode": {
    "name": "ipython",
    "version": 3
   },
   "file_extension": ".py",
   "mimetype": "text/x-python",
   "name": "python",
   "nbconvert_exporter": "python",
   "pygments_lexer": "ipython3",
   "version": "3.7.6-final"
  },
  "latex_envs": {
   "LaTeX_envs_menu_present": true,
   "autoclose": false,
   "autocomplete": true,
   "bibliofile": "biblio.bib",
   "cite_by": "apalike",
   "current_citInitial": 1,
   "eqLabelWithNumbers": true,
   "eqNumInitial": 1,
   "hotkeys": {
    "equation": "Ctrl-E",
    "itemize": "Ctrl-I"
   },
   "labels_anchors": false,
   "latex_user_defs": false,
   "report_style_numbering": false,
   "user_envs_cfg": false
  }
 },
 "nbformat": 4,
 "nbformat_minor": 2
}